{
 "cells": [
  {
   "cell_type": "markdown",
   "metadata": {},
   "source": [
    "# ML Pipeline Preparation\n",
    "Follow the instructions below to help you create your ML pipeline.\n",
    "### 1. Import libraries and load data from database.\n",
    "- Import Python libraries\n",
    "- Load dataset from database with [`read_sql_table`](https://pandas.pydata.org/pandas-docs/stable/generated/pandas.read_sql_table.html)\n",
    "- Define feature and target variables X and Y"
   ]
  },
  {
   "cell_type": "code",
   "execution_count": 37,
   "metadata": {},
   "outputs": [],
   "source": [
    "# import libraries\n",
    "from sqlalchemy import create_engine\n",
    "import pandas as pd\n"
   ]
  },
  {
   "cell_type": "code",
   "execution_count": 38,
   "metadata": {
    "scrolled": false
   },
   "outputs": [],
   "source": [
    "# load data from database\n",
    "engine = create_engine('sqlite:///DisasterResponse.db')\n",
    "df = pd.read_sql('SELECT * FROM message', engine)\n",
    "X = df.message\n",
    "y = df.iloc[:, 4:]"
   ]
  },
  {
   "cell_type": "markdown",
   "metadata": {},
   "source": [
    "### 2. Write a tokenization function to process your text data"
   ]
  },
  {
   "cell_type": "code",
   "execution_count": 10,
   "metadata": {},
   "outputs": [],
   "source": [
    "from nltk.tokenize import word_tokenize\n",
    "from nltk.stem import WordNetLemmatizer\n",
    "\n",
    "def tokenize(text):\n",
    "    tokens = word_tokenize(text)\n",
    "    lemmatizer = WordNetLemmatizer()\n",
    "\n",
    "    clean_tokens = []\n",
    "    for tok in tokens:\n",
    "        clean_tok = lemmatizer.lemmatize(tok).lower().strip()\n",
    "        clean_tokens.append(clean_tok)\n",
    "\n",
    "    return clean_tokens\n",
    "\n"
   ]
  },
  {
   "cell_type": "markdown",
   "metadata": {},
   "source": [
    "### 3. Build a machine learning pipeline\n",
    "This machine pipeline should take in the `message` column as input and output classification results on the other 36 categories in the dataset. You may find the [MultiOutputClassifier](http://scikit-learn.org/stable/modules/generated/sklearn.multioutput.MultiOutputClassifier.html) helpful for predicting multiple target variables."
   ]
  },
  {
   "cell_type": "code",
   "execution_count": 119,
   "metadata": {},
   "outputs": [],
   "source": [
    "# First choose KNN calssifier , it is suitable for this situation\n",
    "\n",
    "from sklearn.multioutput import MultiOutputClassifier\n",
    "from sklearn.feature_extraction.text import CountVectorizer, TfidfTransformer\n",
    "from sklearn.pipeline import Pipeline\n",
    "from sklearn.neighbors import KNeighborsClassifier\n",
    "from sklearn.model_selection import train_test_split\n",
    "pipeline = Pipeline([\n",
    "                ('vect', CountVectorizer(tokenizer=tokenize)),\n",
    "                ('tfidf', TfidfTransformer()),\n",
    "                ('clf', MultiOutputClassifier(KNeighborsClassifier())),\n",
    "                ])\n"
   ]
  },
  {
   "cell_type": "markdown",
   "metadata": {},
   "source": [
    "### 4. Train pipeline\n",
    "- Split data into train and test sets\n",
    "- Train pipeline"
   ]
  },
  {
   "cell_type": "code",
   "execution_count": 120,
   "metadata": {},
   "outputs": [],
   "source": [
    "# split the train and test data\n",
    "from sklearn.model_selection import train_test_split\n",
    "\n",
    "X_train, X_test, y_train, y_test = train_test_split(X, y,test_size =.3,random_state = 42)\n"
   ]
  },
  {
   "cell_type": "code",
   "execution_count": 121,
   "metadata": {},
   "outputs": [],
   "source": [
    "# train the model and make predictions\n",
    "pipeline.fit(X_train, y_train)\n",
    "y_pred = pipeline.predict(X_test)"
   ]
  },
  {
   "cell_type": "markdown",
   "metadata": {},
   "source": [
    "### 5. Test your model\n",
    "Report the f1 score, precision and recall for each output category of the dataset. You can do this by iterating through the columns and calling sklearn's `classification_report` on each."
   ]
  },
  {
   "cell_type": "code",
   "execution_count": 122,
   "metadata": {},
   "outputs": [],
   "source": [
    "# build a function to see if the prediction matches the y_test data\n",
    "\n",
    "from sklearn.metrics import classification_report\n",
    "'''\n",
    "set a function to see the average precision, recall and f1 scores for each column\n",
    "'''\n",
    "def get_scores(y_pred,y_test):\n",
    "    result = []\n",
    "    for i in range(y_test.shape[1]): \n",
    "        test_value = y_test.iloc[:, i]\n",
    "        pred_value = [a[i] for a in y_pred]\n",
    "        result.append(list(classification_report(test_value, pred_value,output_dict = True)['0'].values())[:3])\n",
    "    return pd.DataFrame(result,columns=['precision','recall','f1_score']).mean()\n",
    "\n",
    "    \n",
    "    "
   ]
  },
  {
   "cell_type": "code",
   "execution_count": 124,
   "metadata": {},
   "outputs": [
    {
     "data": {
      "text/plain": [
       "precision    0.931183\n",
       "recall       0.973001\n",
       "f1_score     0.950552\n",
       "dtype: float64"
      ]
     },
     "execution_count": 124,
     "metadata": {},
     "output_type": "execute_result"
    }
   ],
   "source": [
    "KNeighborsClassifier_score = get_scores(y_pred,y_test)\n",
    "KNeighborsClassifier_score"
   ]
  },
  {
   "cell_type": "markdown",
   "metadata": {},
   "source": [
    "### 6. Improve your model\n",
    "Use grid search to find better parameters. "
   ]
  },
  {
   "cell_type": "code",
   "execution_count": 100,
   "metadata": {
    "scrolled": true
   },
   "outputs": [
    {
     "data": {
      "text/plain": [
       "{'memory': None,\n",
       " 'steps': [('vect',\n",
       "   CountVectorizer(analyzer='word', binary=False, decode_error='strict',\n",
       "                   dtype=<class 'numpy.int64'>, encoding='utf-8', input='content',\n",
       "                   lowercase=True, max_df=1.0, max_features=None, min_df=1,\n",
       "                   ngram_range=(1, 1), preprocessor=None, stop_words=None,\n",
       "                   strip_accents=None, token_pattern='(?u)\\\\b\\\\w\\\\w+\\\\b',\n",
       "                   tokenizer=<function tokenize at 0x1a1cd2d290>, vocabulary=None)),\n",
       "  ('tfidf',\n",
       "   TfidfTransformer(norm='l2', smooth_idf=True, sublinear_tf=False, use_idf=True)),\n",
       "  ('clf',\n",
       "   MultiOutputClassifier(estimator=KNeighborsClassifier(algorithm='auto',\n",
       "                                                        leaf_size=30,\n",
       "                                                        metric='minkowski',\n",
       "                                                        metric_params=None,\n",
       "                                                        n_jobs=None, n_neighbors=5,\n",
       "                                                        p=2, weights='uniform'),\n",
       "                         n_jobs=None))],\n",
       " 'verbose': False,\n",
       " 'vect': CountVectorizer(analyzer='word', binary=False, decode_error='strict',\n",
       "                 dtype=<class 'numpy.int64'>, encoding='utf-8', input='content',\n",
       "                 lowercase=True, max_df=1.0, max_features=None, min_df=1,\n",
       "                 ngram_range=(1, 1), preprocessor=None, stop_words=None,\n",
       "                 strip_accents=None, token_pattern='(?u)\\\\b\\\\w\\\\w+\\\\b',\n",
       "                 tokenizer=<function tokenize at 0x1a1cd2d290>, vocabulary=None),\n",
       " 'tfidf': TfidfTransformer(norm='l2', smooth_idf=True, sublinear_tf=False, use_idf=True),\n",
       " 'clf': MultiOutputClassifier(estimator=KNeighborsClassifier(algorithm='auto',\n",
       "                                                      leaf_size=30,\n",
       "                                                      metric='minkowski',\n",
       "                                                      metric_params=None,\n",
       "                                                      n_jobs=None, n_neighbors=5,\n",
       "                                                      p=2, weights='uniform'),\n",
       "                       n_jobs=None),\n",
       " 'vect__analyzer': 'word',\n",
       " 'vect__binary': False,\n",
       " 'vect__decode_error': 'strict',\n",
       " 'vect__dtype': numpy.int64,\n",
       " 'vect__encoding': 'utf-8',\n",
       " 'vect__input': 'content',\n",
       " 'vect__lowercase': True,\n",
       " 'vect__max_df': 1.0,\n",
       " 'vect__max_features': None,\n",
       " 'vect__min_df': 1,\n",
       " 'vect__ngram_range': (1, 1),\n",
       " 'vect__preprocessor': None,\n",
       " 'vect__stop_words': None,\n",
       " 'vect__strip_accents': None,\n",
       " 'vect__token_pattern': '(?u)\\\\b\\\\w\\\\w+\\\\b',\n",
       " 'vect__tokenizer': <function __main__.tokenize(text)>,\n",
       " 'vect__vocabulary': None,\n",
       " 'tfidf__norm': 'l2',\n",
       " 'tfidf__smooth_idf': True,\n",
       " 'tfidf__sublinear_tf': False,\n",
       " 'tfidf__use_idf': True,\n",
       " 'clf__estimator__algorithm': 'auto',\n",
       " 'clf__estimator__leaf_size': 30,\n",
       " 'clf__estimator__metric': 'minkowski',\n",
       " 'clf__estimator__metric_params': None,\n",
       " 'clf__estimator__n_jobs': None,\n",
       " 'clf__estimator__n_neighbors': 5,\n",
       " 'clf__estimator__p': 2,\n",
       " 'clf__estimator__weights': 'uniform',\n",
       " 'clf__estimator': KNeighborsClassifier(algorithm='auto', leaf_size=30, metric='minkowski',\n",
       "                      metric_params=None, n_jobs=None, n_neighbors=5, p=2,\n",
       "                      weights='uniform'),\n",
       " 'clf__n_jobs': None}"
      ]
     },
     "execution_count": 100,
     "metadata": {},
     "output_type": "execute_result"
    }
   ],
   "source": [
    "# use GridSearchCV to test several parameter combinations\n",
    "\n",
    "pipeline = Pipeline([\n",
    "                ('vect', CountVectorizer(tokenizer=tokenize)),\n",
    "                ('tfidf', TfidfTransformer()),\n",
    "                ('clf', MultiOutputClassifier(KNeighborsClassifier())),\n",
    "                ])\n",
    "# first get the parameters of the pipeline\n",
    "pipeline.get_params()"
   ]
  },
  {
   "cell_type": "code",
   "execution_count": 194,
   "metadata": {},
   "outputs": [],
   "source": [
    "# set 2*3*3 = 12 kinds of combinations\n",
    "\n",
    "from sklearn.model_selection import GridSearchCV\n",
    "\n",
    "parameters = { \n",
    "    'vect__max_df':[0.5,1.0],\n",
    "    'clf__estimator__n_neighbors':[3,5,7],\n",
    "    'clf__estimator__leaf_size':[20,30,40],    \n",
    "    }\n",
    "\n",
    "# in order to be quicker, set bags to 2 , and no limits to jobs\n",
    "cv = GridSearchCV(pipeline, param_grid=parameters, cv = 2, n_jobs = -1)"
   ]
  },
  {
   "cell_type": "markdown",
   "metadata": {},
   "source": [
    "### 7. Test your model\n",
    "Show the accuracy, precision, and recall of the tuned model.  \n",
    "\n",
    "Since this project focuses on code quality, process, and  pipelines, there is no minimum performance metric needed to pass. However, make sure to fine tune your models for accuracy, precision and recall to make your project stand out - especially for your portfolio!"
   ]
  },
  {
   "cell_type": "code",
   "execution_count": 131,
   "metadata": {},
   "outputs": [],
   "source": [
    "# fit the train data\n",
    "cv.fit(X_train, y_train)\n",
    "# get the pred value\n",
    "y_pred = cv.predict(X_test)\n",
    "\n"
   ]
  },
  {
   "cell_type": "code",
   "execution_count": 135,
   "metadata": {},
   "outputs": [
    {
     "data": {
      "text/plain": [
       "{'clf__estimator__leaf_size': 20,\n",
       " 'clf__estimator__n_neighbors': 5,\n",
       " 'vect__max_df': 0.5}"
      ]
     },
     "execution_count": 135,
     "metadata": {},
     "output_type": "execute_result"
    }
   ],
   "source": [
    "# check the finest parameter combinations\n",
    "cv.best_params_"
   ]
  },
  {
   "cell_type": "code",
   "execution_count": 138,
   "metadata": {
    "scrolled": true
   },
   "outputs": [
    {
     "data": {
      "text/plain": [
       "precision    0.929722\n",
       "recall       0.978194\n",
       "f1_score     0.952168\n",
       "dtype: float64"
      ]
     },
     "execution_count": 138,
     "metadata": {},
     "output_type": "execute_result"
    }
   ],
   "source": [
    "# get the three scores of the best combination\n",
    "get_scores(y_pred,y_test)"
   ]
  },
  {
   "cell_type": "markdown",
   "metadata": {},
   "source": [
    "We can see, after setting 3 parameters, the average f1 score increased about 0.0017 (from 0.9505 to 0.9522), that's not good enough."
   ]
  },
  {
   "cell_type": "markdown",
   "metadata": {},
   "source": [
    "### 8. Try improving your model further. Here are a few ideas:\n",
    "* try other machine learning algorithms\n",
    "* add other features besides the TF-IDF"
   ]
  },
  {
   "cell_type": "code",
   "execution_count": 169,
   "metadata": {
    "scrolled": true
   },
   "outputs": [],
   "source": [
    "#first, try to add a text length feature and a starting verb feature\n",
    "import nltk\n",
    "from sklearn.pipeline import FeatureUnion\n",
    "from sklearn.base import BaseEstimator, TransformerMixin\n",
    "\n",
    "class TextLengthExtractor(BaseEstimator, TransformerMixin):\n",
    "\n",
    "    def textlength(self, text):        \n",
    "        return len(tokenize(text))\n",
    "\n",
    "    def fit(self, x, y=None):\n",
    "        return self\n",
    "\n",
    "    def transform(self, X):\n",
    "        X_tagged = pd.Series(X).apply(self.textlength)\n",
    "        return pd.DataFrame(X_tagged)\n",
    "\n",
    "\n",
    "class StartingVerbExtractor(BaseEstimator, TransformerMixin):\n",
    "\n",
    "    def starting_verb(self, text):\n",
    "        sentence_list = nltk.sent_tokenize(text)\n",
    "        for sentence in sentence_list:\n",
    "            pos_tags = nltk.pos_tag(tokenize(sentence))\n",
    "            first_word, first_tag = pos_tags[0]\n",
    "            if first_tag in ['VB', 'VBP'] or first_word == 'RT':\n",
    "                return True\n",
    "        return False\n",
    "\n",
    "    def fit(self, x, y=None):\n",
    "        return self\n",
    "\n",
    "    def transform(self, X):\n",
    "        X_tagged = pd.Series(X).apply(self.starting_verb)\n",
    "        return pd.DataFrame(X_tagged)\n",
    "\n"
   ]
  },
  {
   "cell_type": "code",
   "execution_count": 197,
   "metadata": {},
   "outputs": [],
   "source": [
    "# add the above two features to the pipeline\n",
    "pipeline_union = Pipeline([\n",
    "    ('features', FeatureUnion([\n",
    "\n",
    "        ('nlp_pipeline', Pipeline([\n",
    "            ('vect', CountVectorizer(tokenizer=tokenize,max_df =0.5)),\n",
    "            ('tfidf', TfidfTransformer())\n",
    "             ])),\n",
    "\n",
    "        ('txt_len', TextLengthExtractor()),\n",
    "        ('start_verb', StartingVerbExtractor())\n",
    "    ])),\n",
    "\n",
    "    ('clf', MultiOutputClassifier(KNeighborsClassifier(leaf_size =20)))\n",
    "])\n",
    "\n"
   ]
  },
  {
   "cell_type": "code",
   "execution_count": 198,
   "metadata": {
    "scrolled": false
   },
   "outputs": [],
   "source": [
    "# fit the data, and make predictions\n",
    "pipeline_union.fit(X_train, y_train)\n",
    "y_pred_union = pipeline_union.predict(X_test)"
   ]
  },
  {
   "cell_type": "code",
   "execution_count": 200,
   "metadata": {},
   "outputs": [
    {
     "data": {
      "text/plain": [
       "precision    0.934191\n",
       "recall       0.957524\n",
       "f1_score     0.944294\n",
       "dtype: float64"
      ]
     },
     "execution_count": 200,
     "metadata": {},
     "output_type": "execute_result"
    }
   ],
   "source": [
    "# get the score\n",
    "get_scores(y_pred_union,y_test)"
   ]
  },
  {
   "cell_type": "markdown",
   "metadata": {},
   "source": [
    "After adding the new feature, the f1 score do not getting better.\n",
    "Next, I will try another classifier"
   ]
  },
  {
   "cell_type": "code",
   "execution_count": 179,
   "metadata": {},
   "outputs": [],
   "source": [
    "# try randomforestclassifier\n",
    "from sklearn.ensemble import RandomForestClassifier\n",
    "\n",
    "pipeline_rf = Pipeline([\n",
    "                ('vect', CountVectorizer(tokenizer=tokenize)),\n",
    "                ('tfidf', TfidfTransformer()),\n",
    "                ('clf', MultiOutputClassifier(RandomForestClassifier())),\n",
    "                ])\n",
    "# use default settings and run the fitting and prediction  \n",
    "pipeline_rf.fit(X_train, y_train)\n",
    "y_pred_rf = pipeline_rf.predict(X_test)"
   ]
  },
  {
   "cell_type": "code",
   "execution_count": 181,
   "metadata": {
    "scrolled": true
   },
   "outputs": [
    {
     "data": {
      "text/plain": [
       "precision    0.944321\n",
       "recall       0.973485\n",
       "f1_score     0.955139\n",
       "dtype: float64"
      ]
     },
     "execution_count": 181,
     "metadata": {},
     "output_type": "execute_result"
    }
   ],
   "source": [
    "# get the scores\n",
    "get_scores(y_pred_rf,y_test)"
   ]
  },
  {
   "cell_type": "markdown",
   "metadata": {},
   "source": [
    "The average f1_scores increased for about 0.003, to 0.9551.\n",
    "I will try NBclassifier"
   ]
  },
  {
   "cell_type": "code",
   "execution_count": 213,
   "metadata": {
    "scrolled": false
   },
   "outputs": [],
   "source": [
    "# try naive bayes classifier\n",
    "from sklearn.naive_bayes import GaussianNB\n",
    "from sklearn.preprocessing import FunctionTransformer\n",
    "\n",
    "pipeline_nb = Pipeline([\n",
    "                ('vect', CountVectorizer(tokenizer=tokenize)),\n",
    "                ('tfidf', TfidfTransformer()),\n",
    "                ('todense',FunctionTransformer(lambda x: x.todense(), accept_sparse=True)), \n",
    "                ('clf', MultiOutputClassifier(GaussianNB())),\n",
    "                ])\n",
    "\n",
    "pipeline_nb.fit(X_train, y_train)\n",
    "y_pred_nb = pipeline_nb.predict(X_test)\n",
    "\n"
   ]
  },
  {
   "cell_type": "code",
   "execution_count": 214,
   "metadata": {},
   "outputs": [
    {
     "data": {
      "text/plain": [
       "precision    0.929827\n",
       "recall       0.778979\n",
       "f1_score     0.842159\n",
       "dtype: float64"
      ]
     },
     "execution_count": 214,
     "metadata": {},
     "output_type": "execute_result"
    }
   ],
   "source": [
    "get_scores(y_pred_nb,y_test)"
   ]
  },
  {
   "cell_type": "markdown",
   "metadata": {},
   "source": [
    "It seems GaussianNB is not as good as above two classifiers.\n",
    "RandomForestClassifier has the highest f1 score.\n",
    "\n",
    "At last, I will use GridSearchCV to set several parameters to improve RandomForestClassifier"
   ]
  },
  {
   "cell_type": "code",
   "execution_count": 237,
   "metadata": {},
   "outputs": [],
   "source": [
    "# set the pipeline\n",
    "pipeline_randomfo = Pipeline([\n",
    "    ('features', FeatureUnion([\n",
    "\n",
    "        ('nlp_pipeline', Pipeline([\n",
    "            ('vect', CountVectorizer(tokenizer=tokenize, max_df = 0.5)),\n",
    "            ('tfidf', TfidfTransformer())\n",
    "             ])),\n",
    "\n",
    "        ('txt_len', TextLengthExtractor()),\n",
    "        ('start_verb', StartingVerbExtractor())\n",
    "    ])),\n",
    "\n",
    "    ('clf', MultiOutputClassifier(RandomForestClassifier(min_samples_leaf =1,n_estimators = 1000)))\n",
    "])"
   ]
  },
  {
   "cell_type": "code",
   "execution_count": 238,
   "metadata": {
    "scrolled": true
   },
   "outputs": [
    {
     "data": {
      "text/plain": [
       "{'memory': None,\n",
       " 'steps': [('features', FeatureUnion(n_jobs=None,\n",
       "                transformer_list=[('nlp_pipeline',\n",
       "                                   Pipeline(memory=None,\n",
       "                                            steps=[('vect',\n",
       "                                                    CountVectorizer(analyzer='word',\n",
       "                                                                    binary=False,\n",
       "                                                                    decode_error='strict',\n",
       "                                                                    dtype=<class 'numpy.int64'>,\n",
       "                                                                    encoding='utf-8',\n",
       "                                                                    input='content',\n",
       "                                                                    lowercase=True,\n",
       "                                                                    max_df=0.5,\n",
       "                                                                    max_features=None,\n",
       "                                                                    min_df=1,\n",
       "                                                                    ngram_range=(1,\n",
       "                                                                                 1),\n",
       "                                                                    preprocessor=None,\n",
       "                                                                    stop_words=None,\n",
       "                                                                    strip_accents=None,\n",
       "                                                                    token_pattern='(?u)\\\\b\\\\w\\\\w+\\\\b',\n",
       "                                                                    tokenizer=<function tokenize at 0x1a1cd2d290>,\n",
       "                                                                    vocabulary=None)),\n",
       "                                                   ('tfidf',\n",
       "                                                    TfidfTransformer(norm='l2',\n",
       "                                                                     smooth_idf=True,\n",
       "                                                                     sublinear_tf=False,\n",
       "                                                                     use_idf=True))],\n",
       "                                            verbose=False)),\n",
       "                                  ('txt_len', TextLengthExtractor()),\n",
       "                                  ('start_verb', StartingVerbExtractor())],\n",
       "                transformer_weights=None, verbose=False)),\n",
       "  ('clf',\n",
       "   MultiOutputClassifier(estimator=RandomForestClassifier(bootstrap=True,\n",
       "                                                          ccp_alpha=0.0,\n",
       "                                                          class_weight=None,\n",
       "                                                          criterion='gini',\n",
       "                                                          max_depth=None,\n",
       "                                                          max_features='auto',\n",
       "                                                          max_leaf_nodes=None,\n",
       "                                                          max_samples=None,\n",
       "                                                          min_impurity_decrease=0.0,\n",
       "                                                          min_impurity_split=None,\n",
       "                                                          min_samples_leaf=1,\n",
       "                                                          min_samples_split=2,\n",
       "                                                          min_weight_fraction_leaf=0.0,\n",
       "                                                          n_estimators=1000,\n",
       "                                                          n_jobs=None,\n",
       "                                                          oob_score=False,\n",
       "                                                          random_state=None,\n",
       "                                                          verbose=0,\n",
       "                                                          warm_start=False),\n",
       "                         n_jobs=None))],\n",
       " 'verbose': False,\n",
       " 'features': FeatureUnion(n_jobs=None,\n",
       "              transformer_list=[('nlp_pipeline',\n",
       "                                 Pipeline(memory=None,\n",
       "                                          steps=[('vect',\n",
       "                                                  CountVectorizer(analyzer='word',\n",
       "                                                                  binary=False,\n",
       "                                                                  decode_error='strict',\n",
       "                                                                  dtype=<class 'numpy.int64'>,\n",
       "                                                                  encoding='utf-8',\n",
       "                                                                  input='content',\n",
       "                                                                  lowercase=True,\n",
       "                                                                  max_df=0.5,\n",
       "                                                                  max_features=None,\n",
       "                                                                  min_df=1,\n",
       "                                                                  ngram_range=(1,\n",
       "                                                                               1),\n",
       "                                                                  preprocessor=None,\n",
       "                                                                  stop_words=None,\n",
       "                                                                  strip_accents=None,\n",
       "                                                                  token_pattern='(?u)\\\\b\\\\w\\\\w+\\\\b',\n",
       "                                                                  tokenizer=<function tokenize at 0x1a1cd2d290>,\n",
       "                                                                  vocabulary=None)),\n",
       "                                                 ('tfidf',\n",
       "                                                  TfidfTransformer(norm='l2',\n",
       "                                                                   smooth_idf=True,\n",
       "                                                                   sublinear_tf=False,\n",
       "                                                                   use_idf=True))],\n",
       "                                          verbose=False)),\n",
       "                                ('txt_len', TextLengthExtractor()),\n",
       "                                ('start_verb', StartingVerbExtractor())],\n",
       "              transformer_weights=None, verbose=False),\n",
       " 'clf': MultiOutputClassifier(estimator=RandomForestClassifier(bootstrap=True,\n",
       "                                                        ccp_alpha=0.0,\n",
       "                                                        class_weight=None,\n",
       "                                                        criterion='gini',\n",
       "                                                        max_depth=None,\n",
       "                                                        max_features='auto',\n",
       "                                                        max_leaf_nodes=None,\n",
       "                                                        max_samples=None,\n",
       "                                                        min_impurity_decrease=0.0,\n",
       "                                                        min_impurity_split=None,\n",
       "                                                        min_samples_leaf=1,\n",
       "                                                        min_samples_split=2,\n",
       "                                                        min_weight_fraction_leaf=0.0,\n",
       "                                                        n_estimators=1000,\n",
       "                                                        n_jobs=None,\n",
       "                                                        oob_score=False,\n",
       "                                                        random_state=None,\n",
       "                                                        verbose=0,\n",
       "                                                        warm_start=False),\n",
       "                       n_jobs=None),\n",
       " 'features__n_jobs': None,\n",
       " 'features__transformer_list': [('nlp_pipeline',\n",
       "   Pipeline(memory=None,\n",
       "            steps=[('vect',\n",
       "                    CountVectorizer(analyzer='word', binary=False,\n",
       "                                    decode_error='strict',\n",
       "                                    dtype=<class 'numpy.int64'>, encoding='utf-8',\n",
       "                                    input='content', lowercase=True, max_df=0.5,\n",
       "                                    max_features=None, min_df=1,\n",
       "                                    ngram_range=(1, 1), preprocessor=None,\n",
       "                                    stop_words=None, strip_accents=None,\n",
       "                                    token_pattern='(?u)\\\\b\\\\w\\\\w+\\\\b',\n",
       "                                    tokenizer=<function tokenize at 0x1a1cd2d290>,\n",
       "                                    vocabulary=None)),\n",
       "                   ('tfidf',\n",
       "                    TfidfTransformer(norm='l2', smooth_idf=True,\n",
       "                                     sublinear_tf=False, use_idf=True))],\n",
       "            verbose=False)),\n",
       "  ('txt_len', TextLengthExtractor()),\n",
       "  ('start_verb', StartingVerbExtractor())],\n",
       " 'features__transformer_weights': None,\n",
       " 'features__verbose': False,\n",
       " 'features__nlp_pipeline': Pipeline(memory=None,\n",
       "          steps=[('vect',\n",
       "                  CountVectorizer(analyzer='word', binary=False,\n",
       "                                  decode_error='strict',\n",
       "                                  dtype=<class 'numpy.int64'>, encoding='utf-8',\n",
       "                                  input='content', lowercase=True, max_df=0.5,\n",
       "                                  max_features=None, min_df=1,\n",
       "                                  ngram_range=(1, 1), preprocessor=None,\n",
       "                                  stop_words=None, strip_accents=None,\n",
       "                                  token_pattern='(?u)\\\\b\\\\w\\\\w+\\\\b',\n",
       "                                  tokenizer=<function tokenize at 0x1a1cd2d290>,\n",
       "                                  vocabulary=None)),\n",
       "                 ('tfidf',\n",
       "                  TfidfTransformer(norm='l2', smooth_idf=True,\n",
       "                                   sublinear_tf=False, use_idf=True))],\n",
       "          verbose=False),\n",
       " 'features__txt_len': TextLengthExtractor(),\n",
       " 'features__start_verb': StartingVerbExtractor(),\n",
       " 'features__nlp_pipeline__memory': None,\n",
       " 'features__nlp_pipeline__steps': [('vect',\n",
       "   CountVectorizer(analyzer='word', binary=False, decode_error='strict',\n",
       "                   dtype=<class 'numpy.int64'>, encoding='utf-8', input='content',\n",
       "                   lowercase=True, max_df=0.5, max_features=None, min_df=1,\n",
       "                   ngram_range=(1, 1), preprocessor=None, stop_words=None,\n",
       "                   strip_accents=None, token_pattern='(?u)\\\\b\\\\w\\\\w+\\\\b',\n",
       "                   tokenizer=<function tokenize at 0x1a1cd2d290>, vocabulary=None)),\n",
       "  ('tfidf',\n",
       "   TfidfTransformer(norm='l2', smooth_idf=True, sublinear_tf=False, use_idf=True))],\n",
       " 'features__nlp_pipeline__verbose': False,\n",
       " 'features__nlp_pipeline__vect': CountVectorizer(analyzer='word', binary=False, decode_error='strict',\n",
       "                 dtype=<class 'numpy.int64'>, encoding='utf-8', input='content',\n",
       "                 lowercase=True, max_df=0.5, max_features=None, min_df=1,\n",
       "                 ngram_range=(1, 1), preprocessor=None, stop_words=None,\n",
       "                 strip_accents=None, token_pattern='(?u)\\\\b\\\\w\\\\w+\\\\b',\n",
       "                 tokenizer=<function tokenize at 0x1a1cd2d290>, vocabulary=None),\n",
       " 'features__nlp_pipeline__tfidf': TfidfTransformer(norm='l2', smooth_idf=True, sublinear_tf=False, use_idf=True),\n",
       " 'features__nlp_pipeline__vect__analyzer': 'word',\n",
       " 'features__nlp_pipeline__vect__binary': False,\n",
       " 'features__nlp_pipeline__vect__decode_error': 'strict',\n",
       " 'features__nlp_pipeline__vect__dtype': numpy.int64,\n",
       " 'features__nlp_pipeline__vect__encoding': 'utf-8',\n",
       " 'features__nlp_pipeline__vect__input': 'content',\n",
       " 'features__nlp_pipeline__vect__lowercase': True,\n",
       " 'features__nlp_pipeline__vect__max_df': 0.5,\n",
       " 'features__nlp_pipeline__vect__max_features': None,\n",
       " 'features__nlp_pipeline__vect__min_df': 1,\n",
       " 'features__nlp_pipeline__vect__ngram_range': (1, 1),\n",
       " 'features__nlp_pipeline__vect__preprocessor': None,\n",
       " 'features__nlp_pipeline__vect__stop_words': None,\n",
       " 'features__nlp_pipeline__vect__strip_accents': None,\n",
       " 'features__nlp_pipeline__vect__token_pattern': '(?u)\\\\b\\\\w\\\\w+\\\\b',\n",
       " 'features__nlp_pipeline__vect__tokenizer': <function __main__.tokenize(text)>,\n",
       " 'features__nlp_pipeline__vect__vocabulary': None,\n",
       " 'features__nlp_pipeline__tfidf__norm': 'l2',\n",
       " 'features__nlp_pipeline__tfidf__smooth_idf': True,\n",
       " 'features__nlp_pipeline__tfidf__sublinear_tf': False,\n",
       " 'features__nlp_pipeline__tfidf__use_idf': True,\n",
       " 'clf__estimator__bootstrap': True,\n",
       " 'clf__estimator__ccp_alpha': 0.0,\n",
       " 'clf__estimator__class_weight': None,\n",
       " 'clf__estimator__criterion': 'gini',\n",
       " 'clf__estimator__max_depth': None,\n",
       " 'clf__estimator__max_features': 'auto',\n",
       " 'clf__estimator__max_leaf_nodes': None,\n",
       " 'clf__estimator__max_samples': None,\n",
       " 'clf__estimator__min_impurity_decrease': 0.0,\n",
       " 'clf__estimator__min_impurity_split': None,\n",
       " 'clf__estimator__min_samples_leaf': 1,\n",
       " 'clf__estimator__min_samples_split': 2,\n",
       " 'clf__estimator__min_weight_fraction_leaf': 0.0,\n",
       " 'clf__estimator__n_estimators': 1000,\n",
       " 'clf__estimator__n_jobs': None,\n",
       " 'clf__estimator__oob_score': False,\n",
       " 'clf__estimator__random_state': None,\n",
       " 'clf__estimator__verbose': 0,\n",
       " 'clf__estimator__warm_start': False,\n",
       " 'clf__estimator': RandomForestClassifier(bootstrap=True, ccp_alpha=0.0, class_weight=None,\n",
       "                        criterion='gini', max_depth=None, max_features='auto',\n",
       "                        max_leaf_nodes=None, max_samples=None,\n",
       "                        min_impurity_decrease=0.0, min_impurity_split=None,\n",
       "                        min_samples_leaf=1, min_samples_split=2,\n",
       "                        min_weight_fraction_leaf=0.0, n_estimators=1000,\n",
       "                        n_jobs=None, oob_score=False, random_state=None,\n",
       "                        verbose=0, warm_start=False),\n",
       " 'clf__n_jobs': None}"
      ]
     },
     "execution_count": 238,
     "metadata": {},
     "output_type": "execute_result"
    }
   ],
   "source": [
    "# get parameters\n",
    "pipeline_randomfo.get_params()"
   ]
  },
  {
   "cell_type": "code",
   "execution_count": 239,
   "metadata": {},
   "outputs": [],
   "source": [
    "# set several parameter combinations.\n",
    "# Because RandomforestClassier is very time consumming, I can't try too many parameters\n",
    "parameters = {\n",
    "        'features__nlp_pipeline__vect__max_features': (5000, 10000),\n",
    "        'features__nlp_pipeline__tfidf__use_idf': (True, False),\n",
    "        'clf__estimator__min_samples_split': [2, 4],\n",
    "        }\n"
   ]
  },
  {
   "cell_type": "code",
   "execution_count": 240,
   "metadata": {},
   "outputs": [],
   "source": [
    "# set the GridSearchCV, in order to run quicker, set cv = 2\n",
    "cv_randomfo = GridSearchCV(pipeline_randomfo, param_grid=parameters, cv = 2, n_jobs = -1)"
   ]
  },
  {
   "cell_type": "code",
   "execution_count": 241,
   "metadata": {},
   "outputs": [],
   "source": [
    "# fit the train data\n",
    "cv_randomfo.fit(X_train, y_train)\n",
    "# get the pred value\n",
    "y_pred_randomfo = cv_randomfo.predict(X_test)\n"
   ]
  },
  {
   "cell_type": "code",
   "execution_count": 243,
   "metadata": {},
   "outputs": [
    {
     "data": {
      "text/plain": [
       "{'clf__estimator__min_samples_split': 4,\n",
       " 'features__nlp_pipeline__tfidf__use_idf': True,\n",
       " 'features__nlp_pipeline__vect__max_features': 5000}"
      ]
     },
     "execution_count": 243,
     "metadata": {},
     "output_type": "execute_result"
    }
   ],
   "source": [
    "cv_randomfo.best_params_"
   ]
  },
  {
   "cell_type": "code",
   "execution_count": 244,
   "metadata": {},
   "outputs": [
    {
     "name": "stderr",
     "output_type": "stream",
     "text": [
      "/Users/xuhao3/opt/anaconda3/lib/python3.7/site-packages/sklearn/metrics/_classification.py:1272: UndefinedMetricWarning: Precision and F-score are ill-defined and being set to 0.0 in labels with no predicted samples. Use `zero_division` parameter to control this behavior.\n",
      "  _warn_prf(average, modifier, msg_start, len(result))\n"
     ]
    },
    {
     "data": {
      "text/plain": [
       "precision    0.949215\n",
       "recall       0.971371\n",
       "f1_score     0.956984\n",
       "dtype: float64"
      ]
     },
     "execution_count": 244,
     "metadata": {},
     "output_type": "execute_result"
    }
   ],
   "source": [
    "get_scores(y_pred_randomfo,y_test)"
   ]
  },
  {
   "cell_type": "code",
   "execution_count": null,
   "metadata": {},
   "outputs": [],
   "source": []
  },
  {
   "cell_type": "code",
   "execution_count": 245,
   "metadata": {},
   "outputs": [],
   "source": [
    "# set the parameters and rerun the ML process using randomforest\n",
    "pipeline_randomforest = Pipeline([\n",
    "    ('features', FeatureUnion([\n",
    "\n",
    "        ('nlp_pipeline', Pipeline([\n",
    "            ('vect', CountVectorizer(tokenizer=tokenize,\n",
    "                                     max_df = 0.5,\n",
    "                                     max_features = 5000)),\n",
    "            ('tfidf', TfidfTransformer(use_idf = True))\n",
    "             ])),\n",
    "\n",
    "        ('txt_len', TextLengthExtractor()),\n",
    "        ('start_verb', StartingVerbExtractor())\n",
    "    ])),\n",
    "\n",
    "    ('clf', MultiOutputClassifier(RandomForestClassifier(min_samples_leaf =1,\n",
    "                                                         n_estimators = 1000,\n",
    "                                                         min_samples_split = 4)))\n",
    "    ])"
   ]
  },
  {
   "cell_type": "code",
   "execution_count": 246,
   "metadata": {},
   "outputs": [],
   "source": [
    "pipeline_randomforest.fit(X_train, y_train)\n",
    "y_pred_randomforest = pipeline_randomforest.predict(X_test)\n"
   ]
  },
  {
   "cell_type": "code",
   "execution_count": 247,
   "metadata": {},
   "outputs": [
    {
     "name": "stderr",
     "output_type": "stream",
     "text": [
      "/Users/xuhao3/opt/anaconda3/lib/python3.7/site-packages/sklearn/metrics/_classification.py:1272: UndefinedMetricWarning: Precision and F-score are ill-defined and being set to 0.0 in labels with no predicted samples. Use `zero_division` parameter to control this behavior.\n",
      "  _warn_prf(average, modifier, msg_start, len(result))\n"
     ]
    },
    {
     "data": {
      "text/plain": [
       "precision    0.949207\n",
       "recall       0.971228\n",
       "f1_score     0.956889\n",
       "dtype: float64"
      ]
     },
     "execution_count": 247,
     "metadata": {},
     "output_type": "execute_result"
    }
   ],
   "source": [
    "get_scores(y_pred_randomforest,y_test)"
   ]
  },
  {
   "cell_type": "markdown",
   "metadata": {},
   "source": [
    "After setting several parameters, the f1 score increased for another 0.0015.\n",
    "I will stop improving my model here for:\n",
    "1. The f1 score is high enough, it's difficult to have big improvement.\n",
    "2. Run every single randomforestcalssifier for the dataset costs about an hour, if\n",
    "In order to save the model to a pickle file, I will rerun the ML process again."
   ]
  },
  {
   "cell_type": "code",
   "execution_count": null,
   "metadata": {},
   "outputs": [],
   "source": [
    "category_names = list(y.columns)\n",
    "\n",
    "def evaluate_model(pipeline_randomforest, X_test, y_test, category_names):\n",
    "    y_pred = model.predict(X_test)\n",
    "    \n",
    "    result = []\n",
    "    for i in range(y_test.shape[1]): \n",
    "        test_value = y_test.iloc[:, i]\n",
    "        pred_value = [a[i] for a in y_pred]\n",
    "        result.append(list(classification_report(test_value, pred_value,output_dict = True)['0'].values())[:3])\n",
    "    \n",
    "    df = pd.DataFrame(result,columns=['precision','recall','f1_score'])\n",
    "    df['indicator'] = pd.Series(category_names)\n",
    "    \n",
    "    print(df)\n",
    "    print('The average precision, recall and f1_score are {},{},{}'.\n",
    "          format(df.precision.mean(),df.recall.mean(),df.f1_score.mean()))\n",
    "\n"
   ]
  },
  {
   "cell_type": "code",
   "execution_count": 248,
   "metadata": {},
   "outputs": [],
   "source": [
    "category_names = list(y.columns)"
   ]
  },
  {
   "cell_type": "code",
   "execution_count": 249,
   "metadata": {},
   "outputs": [],
   "source": [
    "result = []\n",
    "for i in range(y_test.shape[1]): \n",
    "    test_value = y_test.iloc[:, i]\n",
    "    pred_value = [a[i] for a in y_pred]\n",
    "    result.append(list(classification_report(test_value, pred_value,output_dict = True)['0'].values())[:3])\n",
    "\n"
   ]
  },
  {
   "cell_type": "code",
   "execution_count": 250,
   "metadata": {},
   "outputs": [],
   "source": [
    "df3 = pd.DataFrame(result,columns=['precision','recall','f1_score'])"
   ]
  },
  {
   "cell_type": "code",
   "execution_count": 253,
   "metadata": {},
   "outputs": [],
   "source": [
    "df3['indicator'] = category_names"
   ]
  },
  {
   "cell_type": "code",
   "execution_count": 254,
   "metadata": {},
   "outputs": [
    {
     "data": {
      "text/html": [
       "<div>\n",
       "<style scoped>\n",
       "    .dataframe tbody tr th:only-of-type {\n",
       "        vertical-align: middle;\n",
       "    }\n",
       "\n",
       "    .dataframe tbody tr th {\n",
       "        vertical-align: top;\n",
       "    }\n",
       "\n",
       "    .dataframe thead th {\n",
       "        text-align: right;\n",
       "    }\n",
       "</style>\n",
       "<table border=\"1\" class=\"dataframe\">\n",
       "  <thead>\n",
       "    <tr style=\"text-align: right;\">\n",
       "      <th></th>\n",
       "      <th>precision</th>\n",
       "      <th>recall</th>\n",
       "      <th>f1_score</th>\n",
       "      <th>indicator</th>\n",
       "    </tr>\n",
       "  </thead>\n",
       "  <tbody>\n",
       "    <tr>\n",
       "      <th>0</th>\n",
       "      <td>0.533510</td>\n",
       "      <td>0.429258</td>\n",
       "      <td>0.475740</td>\n",
       "      <td>related</td>\n",
       "    </tr>\n",
       "    <tr>\n",
       "      <th>1</th>\n",
       "      <td>0.876931</td>\n",
       "      <td>0.981632</td>\n",
       "      <td>0.926333</td>\n",
       "      <td>request</td>\n",
       "    </tr>\n",
       "    <tr>\n",
       "      <th>2</th>\n",
       "      <td>0.995422</td>\n",
       "      <td>0.999872</td>\n",
       "      <td>0.997642</td>\n",
       "      <td>offer</td>\n",
       "    </tr>\n",
       "    <tr>\n",
       "      <th>3</th>\n",
       "      <td>0.655810</td>\n",
       "      <td>0.931769</td>\n",
       "      <td>0.769805</td>\n",
       "      <td>aid_related</td>\n",
       "    </tr>\n",
       "    <tr>\n",
       "      <th>4</th>\n",
       "      <td>0.922367</td>\n",
       "      <td>0.996264</td>\n",
       "      <td>0.957893</td>\n",
       "      <td>medical_help</td>\n",
       "    </tr>\n",
       "    <tr>\n",
       "      <th>5</th>\n",
       "      <td>0.949527</td>\n",
       "      <td>0.997851</td>\n",
       "      <td>0.973090</td>\n",
       "      <td>medical_products</td>\n",
       "    </tr>\n",
       "    <tr>\n",
       "      <th>6</th>\n",
       "      <td>0.976330</td>\n",
       "      <td>0.999870</td>\n",
       "      <td>0.987960</td>\n",
       "      <td>search_and_rescue</td>\n",
       "    </tr>\n",
       "    <tr>\n",
       "      <th>7</th>\n",
       "      <td>0.981686</td>\n",
       "      <td>0.999741</td>\n",
       "      <td>0.990631</td>\n",
       "      <td>security</td>\n",
       "    </tr>\n",
       "    <tr>\n",
       "      <th>8</th>\n",
       "      <td>0.969824</td>\n",
       "      <td>0.999606</td>\n",
       "      <td>0.984490</td>\n",
       "      <td>military</td>\n",
       "    </tr>\n",
       "    <tr>\n",
       "      <th>9</th>\n",
       "      <td>1.000000</td>\n",
       "      <td>1.000000</td>\n",
       "      <td>1.000000</td>\n",
       "      <td>child_alone</td>\n",
       "    </tr>\n",
       "    <tr>\n",
       "      <th>10</th>\n",
       "      <td>0.944359</td>\n",
       "      <td>0.995519</td>\n",
       "      <td>0.969264</td>\n",
       "      <td>water</td>\n",
       "    </tr>\n",
       "    <tr>\n",
       "      <th>11</th>\n",
       "      <td>0.906754</td>\n",
       "      <td>0.989552</td>\n",
       "      <td>0.946345</td>\n",
       "      <td>food</td>\n",
       "    </tr>\n",
       "    <tr>\n",
       "      <th>12</th>\n",
       "      <td>0.920491</td>\n",
       "      <td>0.994413</td>\n",
       "      <td>0.956026</td>\n",
       "      <td>shelter</td>\n",
       "    </tr>\n",
       "    <tr>\n",
       "      <th>13</th>\n",
       "      <td>0.986628</td>\n",
       "      <td>0.999613</td>\n",
       "      <td>0.993078</td>\n",
       "      <td>clothing</td>\n",
       "    </tr>\n",
       "    <tr>\n",
       "      <th>14</th>\n",
       "      <td>0.978864</td>\n",
       "      <td>0.999090</td>\n",
       "      <td>0.988874</td>\n",
       "      <td>money</td>\n",
       "    </tr>\n",
       "    <tr>\n",
       "      <th>15</th>\n",
       "      <td>0.988428</td>\n",
       "      <td>1.000000</td>\n",
       "      <td>0.994180</td>\n",
       "      <td>missing_people</td>\n",
       "    </tr>\n",
       "    <tr>\n",
       "      <th>16</th>\n",
       "      <td>0.967631</td>\n",
       "      <td>0.998422</td>\n",
       "      <td>0.982785</td>\n",
       "      <td>refugees</td>\n",
       "    </tr>\n",
       "    <tr>\n",
       "      <th>17</th>\n",
       "      <td>0.958616</td>\n",
       "      <td>0.997733</td>\n",
       "      <td>0.977784</td>\n",
       "      <td>death</td>\n",
       "    </tr>\n",
       "    <tr>\n",
       "      <th>18</th>\n",
       "      <td>0.870807</td>\n",
       "      <td>0.995463</td>\n",
       "      <td>0.928971</td>\n",
       "      <td>other_aid</td>\n",
       "    </tr>\n",
       "    <tr>\n",
       "      <th>19</th>\n",
       "      <td>0.936496</td>\n",
       "      <td>0.997826</td>\n",
       "      <td>0.966189</td>\n",
       "      <td>infrastructure_related</td>\n",
       "    </tr>\n",
       "    <tr>\n",
       "      <th>20</th>\n",
       "      <td>0.955595</td>\n",
       "      <td>0.998134</td>\n",
       "      <td>0.976402</td>\n",
       "      <td>transport</td>\n",
       "    </tr>\n",
       "    <tr>\n",
       "      <th>21</th>\n",
       "      <td>0.952856</td>\n",
       "      <td>0.997993</td>\n",
       "      <td>0.974902</td>\n",
       "      <td>buildings</td>\n",
       "    </tr>\n",
       "    <tr>\n",
       "      <th>22</th>\n",
       "      <td>0.979384</td>\n",
       "      <td>0.999870</td>\n",
       "      <td>0.989521</td>\n",
       "      <td>electricity</td>\n",
       "    </tr>\n",
       "    <tr>\n",
       "      <th>23</th>\n",
       "      <td>0.993897</td>\n",
       "      <td>1.000000</td>\n",
       "      <td>0.996939</td>\n",
       "      <td>tools</td>\n",
       "    </tr>\n",
       "    <tr>\n",
       "      <th>24</th>\n",
       "      <td>0.990081</td>\n",
       "      <td>0.999872</td>\n",
       "      <td>0.994952</td>\n",
       "      <td>hospitals</td>\n",
       "    </tr>\n",
       "    <tr>\n",
       "      <th>25</th>\n",
       "      <td>0.996440</td>\n",
       "      <td>1.000000</td>\n",
       "      <td>0.998217</td>\n",
       "      <td>shops</td>\n",
       "    </tr>\n",
       "    <tr>\n",
       "      <th>26</th>\n",
       "      <td>0.987030</td>\n",
       "      <td>1.000000</td>\n",
       "      <td>0.993472</td>\n",
       "      <td>aid_centers</td>\n",
       "    </tr>\n",
       "    <tr>\n",
       "      <th>27</th>\n",
       "      <td>0.956981</td>\n",
       "      <td>0.999335</td>\n",
       "      <td>0.977700</td>\n",
       "      <td>other_infrastructure</td>\n",
       "    </tr>\n",
       "    <tr>\n",
       "      <th>28</th>\n",
       "      <td>0.787545</td>\n",
       "      <td>0.964749</td>\n",
       "      <td>0.867187</td>\n",
       "      <td>weather_related</td>\n",
       "    </tr>\n",
       "    <tr>\n",
       "      <th>29</th>\n",
       "      <td>0.929741</td>\n",
       "      <td>0.995857</td>\n",
       "      <td>0.961664</td>\n",
       "      <td>floods</td>\n",
       "    </tr>\n",
       "    <tr>\n",
       "      <th>30</th>\n",
       "      <td>0.922051</td>\n",
       "      <td>0.989196</td>\n",
       "      <td>0.954444</td>\n",
       "      <td>storm</td>\n",
       "    </tr>\n",
       "    <tr>\n",
       "      <th>31</th>\n",
       "      <td>0.989570</td>\n",
       "      <td>0.999743</td>\n",
       "      <td>0.994631</td>\n",
       "      <td>fire</td>\n",
       "    </tr>\n",
       "    <tr>\n",
       "      <th>32</th>\n",
       "      <td>0.938708</td>\n",
       "      <td>0.989948</td>\n",
       "      <td>0.963647</td>\n",
       "      <td>earthquake</td>\n",
       "    </tr>\n",
       "    <tr>\n",
       "      <th>33</th>\n",
       "      <td>0.979363</td>\n",
       "      <td>0.999220</td>\n",
       "      <td>0.989192</td>\n",
       "      <td>cold</td>\n",
       "    </tr>\n",
       "    <tr>\n",
       "      <th>34</th>\n",
       "      <td>0.948872</td>\n",
       "      <td>0.998926</td>\n",
       "      <td>0.973256</td>\n",
       "      <td>other_weather</td>\n",
       "    </tr>\n",
       "    <tr>\n",
       "      <th>35</th>\n",
       "      <td>0.841404</td>\n",
       "      <td>0.978643</td>\n",
       "      <td>0.904849</td>\n",
       "      <td>direct_report</td>\n",
       "    </tr>\n",
       "  </tbody>\n",
       "</table>\n",
       "</div>"
      ],
      "text/plain": [
       "    precision    recall  f1_score               indicator\n",
       "0    0.533510  0.429258  0.475740                 related\n",
       "1    0.876931  0.981632  0.926333                 request\n",
       "2    0.995422  0.999872  0.997642                   offer\n",
       "3    0.655810  0.931769  0.769805             aid_related\n",
       "4    0.922367  0.996264  0.957893            medical_help\n",
       "5    0.949527  0.997851  0.973090        medical_products\n",
       "6    0.976330  0.999870  0.987960       search_and_rescue\n",
       "7    0.981686  0.999741  0.990631                security\n",
       "8    0.969824  0.999606  0.984490                military\n",
       "9    1.000000  1.000000  1.000000             child_alone\n",
       "10   0.944359  0.995519  0.969264                   water\n",
       "11   0.906754  0.989552  0.946345                    food\n",
       "12   0.920491  0.994413  0.956026                 shelter\n",
       "13   0.986628  0.999613  0.993078                clothing\n",
       "14   0.978864  0.999090  0.988874                   money\n",
       "15   0.988428  1.000000  0.994180          missing_people\n",
       "16   0.967631  0.998422  0.982785                refugees\n",
       "17   0.958616  0.997733  0.977784                   death\n",
       "18   0.870807  0.995463  0.928971               other_aid\n",
       "19   0.936496  0.997826  0.966189  infrastructure_related\n",
       "20   0.955595  0.998134  0.976402               transport\n",
       "21   0.952856  0.997993  0.974902               buildings\n",
       "22   0.979384  0.999870  0.989521             electricity\n",
       "23   0.993897  1.000000  0.996939                   tools\n",
       "24   0.990081  0.999872  0.994952               hospitals\n",
       "25   0.996440  1.000000  0.998217                   shops\n",
       "26   0.987030  1.000000  0.993472             aid_centers\n",
       "27   0.956981  0.999335  0.977700    other_infrastructure\n",
       "28   0.787545  0.964749  0.867187         weather_related\n",
       "29   0.929741  0.995857  0.961664                  floods\n",
       "30   0.922051  0.989196  0.954444                   storm\n",
       "31   0.989570  0.999743  0.994631                    fire\n",
       "32   0.938708  0.989948  0.963647              earthquake\n",
       "33   0.979363  0.999220  0.989192                    cold\n",
       "34   0.948872  0.998926  0.973256           other_weather\n",
       "35   0.841404  0.978643  0.904849           direct_report"
      ]
     },
     "execution_count": 254,
     "metadata": {},
     "output_type": "execute_result"
    }
   ],
   "source": [
    "df3"
   ]
  },
  {
   "cell_type": "code",
   "execution_count": null,
   "metadata": {},
   "outputs": [],
   "source": []
  },
  {
   "cell_type": "markdown",
   "metadata": {},
   "source": [
    "### 9. Export your model as a pickle file"
   ]
  },
  {
   "cell_type": "code",
   "execution_count": 255,
   "metadata": {},
   "outputs": [],
   "source": [
    "import pickle\n",
    "pickle.dump(pipeline_randomforest, open('model_randomforest.pkl', 'wb'))"
   ]
  },
  {
   "cell_type": "markdown",
   "metadata": {},
   "source": [
    "### 10. Use this notebook to complete `train.py`\n",
    "Use the template file attached in the Resources folder to write a script that runs the steps above to create a database and export a model based on a new dataset specified by the user."
   ]
  },
  {
   "cell_type": "code",
   "execution_count": 3,
   "metadata": {},
   "outputs": [
    {
     "name": "stdout",
     "output_type": "stream",
     "text": [
      "Writing train_classifier.py\n"
     ]
    }
   ],
   "source": [
    "%%file train_classifier.py\n",
    "\n",
    "import sys\n",
    "from sqlalchemy import create_engine\n",
    "import pandas as pd\n",
    "import pickle\n",
    "\n",
    "import nltk\n",
    "from nltk.tokenize import word_tokenize\n",
    "from nltk.stem import WordNetLemmatizer\n",
    "\n",
    "from sklearn.pipeline import Pipeline, FeatureUnion\n",
    "from sklearn.multioutput import MultiOutputClassifier\n",
    "from sklearn.ensemble import RandomForestClassifier\n",
    "from sklearn.feature_extraction.text import CountVectorizer, TfidfTransformer\n",
    "from sklearn.model_selection import train_test_split, GridSearchCV\n",
    "from sklearn.metrics import classification_report\n",
    "from sklearn.base import BaseEstimator, TransformerMixin\n",
    "\n",
    "def load_data(database_filepath):\n",
    "    '''\n",
    "    Load dataframe from a database\n",
    "    '''\n",
    "    engine = create_engine('sqlite:///'+database_filepath)\n",
    "    df = pd.read_sql('SELECT * FROM message', engine)\n",
    "    X = df.message\n",
    "    y = df.iloc[:, 4:]\n",
    "    category_names = list(y.columns)\n",
    "    \n",
    "    return X, y, category_names\n",
    "\n",
    "def tokenize(text):\n",
    "    '''\n",
    "    Tokenize and lemmatize the text\n",
    "    '''\n",
    "    tokens = word_tokenize(text)\n",
    "    lemmatizer = WordNetLemmatizer()\n",
    "\n",
    "    clean_tokens = []\n",
    "    for tok in tokens:\n",
    "        clean_tok = lemmatizer.lemmatize(tok).lower().strip()\n",
    "        clean_tokens.append(clean_tok)\n",
    "\n",
    "    return clean_tokens\n",
    "\n",
    "class TextLengthExtractor(BaseEstimator, TransformerMixin):\n",
    "    '''\n",
    "    A class to get the length of each tokenized text, and apply the function to all cells\n",
    "    '''\n",
    "    def textlength(self, text):        \n",
    "        return len(tokenize(text))\n",
    "\n",
    "    def fit(self, x, y=None):\n",
    "        return self\n",
    "\n",
    "    def transform(self, X):\n",
    "        X_tagged = pd.Series(X).apply(self.textlength)\n",
    "        return pd.DataFrame(X_tagged)\n",
    "\n",
    "\n",
    "class StartingVerbExtractor(BaseEstimator, TransformerMixin):\n",
    "    '''\n",
    "    A class to see if the first letter is a verb, and apply the function to all cells\n",
    "    '''\n",
    "    def starting_verb(self, text):\n",
    "        sentence_list = nltk.sent_tokenize(text)\n",
    "        for sentence in sentence_list:\n",
    "            pos_tags = nltk.pos_tag(tokenize(sentence))\n",
    "            first_word, first_tag = pos_tags[0]\n",
    "            if first_tag in ['VB', 'VBP'] or first_word == 'RT':\n",
    "                return True\n",
    "        return False\n",
    "\n",
    "    def fit(self, x, y=None):\n",
    "        return self\n",
    "\n",
    "    def transform(self, X):\n",
    "        X_tagged = pd.Series(X).apply(self.starting_verb)\n",
    "        return pd.DataFrame(X_tagged)\n",
    "\n",
    "def build_model():\n",
    "    '''\n",
    "    Build the model\n",
    "    '''\n",
    "    pipeline_randomforest = Pipeline([\n",
    "    ('features', FeatureUnion([\n",
    "\n",
    "        ('nlp_pipeline', Pipeline([\n",
    "            ('vect', CountVectorizer(tokenizer=tokenize,\n",
    "                                     max_df = 0.5,\n",
    "                                     max_features = 5000)),\n",
    "            ('tfidf', TfidfTransformer(use_idf = True))\n",
    "             ])),\n",
    "\n",
    "        ('txt_len', TextLengthExtractor()),\n",
    "        ('start_verb', StartingVerbExtractor())\n",
    "    ])),\n",
    "\n",
    "    ('clf', MultiOutputClassifier(RandomForestClassifier(min_samples_leaf =1,\n",
    "                                                         n_estimators = 1000,\n",
    "                                                         min_samples_split = 4)))\n",
    "    ])\n",
    "    \n",
    "    return pipeline_randomforest\n",
    "\n",
    "\n",
    "def evaluate_model(model, X_test, y_test, category_names):\n",
    "    '''\n",
    "    use the model to make prediction, and print out every column's precision, recall and fi scores\n",
    "    '''\n",
    "    y_pred = model.predict(X_test)\n",
    "    \n",
    "    result = []\n",
    "    for i in range(y_test.shape[1]): \n",
    "        test_value = y_test.iloc[:, i]\n",
    "        pred_value = [a[i] for a in y_pred]\n",
    "        result.append(list(classification_report(test_value, pred_value,output_dict = True)['0'].values())[:3])\n",
    "    \n",
    "    df = pd.DataFrame(result,columns=['precision','recall','f1_score'])\n",
    "    df['indicator'] = pd.Series(category_names)\n",
    "    \n",
    "    print(df)\n",
    "    print('The average precision, recall and f1_score are {},{},{}'.\n",
    "          format(df.precision.mean(),df.recall.mean(),df.f1_score.mean()))\n",
    "\n",
    "def save_model(model, model_filepath):\n",
    "    '''\n",
    "    Save the model to a .pkl file\n",
    "    '''\n",
    "    pickle.dump(model, open('model_randomforest.pkl', 'wb'))\n",
    "\n",
    "\n",
    "def main():\n",
    "    \n",
    "    \n",
    "    if len(sys.argv) == 3:\n",
    "        database_filepath, model_filepath = sys.argv[1:]\n",
    "        print('Loading data...\\n    DATABASE: {}'.format(database_filepath))\n",
    "        X, y, category_names = load_data(database_filepath)\n",
    "        X_train, X_test, y_train, y_test = train_test_split(X, y, test_size=0.2)\n",
    "        \n",
    "        print('Building model...')\n",
    "        model = build_model()\n",
    "        \n",
    "        print('Training model...')\n",
    "        model.fit(X_train, y_train)\n",
    "        \n",
    "        print('Evaluating model...')\n",
    "        evaluate_model(model, X_test, y_test, category_names)\n",
    "\n",
    "        print('Saving model...\\n    MODEL: {}'.format(model_filepath))\n",
    "        save_model(model, model_filepath)\n",
    "\n",
    "        print('Trained model saved!')\n",
    "\n",
    "    else:\n",
    "        print('Please provide the filepath of the disaster messages database '\\\n",
    "              'as the first argument and the filepath of the pickle file to '\\\n",
    "              'save the model to as the second argument. \\n\\nExample: python '\\\n",
    "              'train_classifier.py ../data/DisasterResponse.db classifier.pkl')\n",
    "\n",
    "\n",
    "if __name__ == '__main__':\n",
    "    main()\n",
    "    \n",
    "    \n"
   ]
  },
  {
   "cell_type": "code",
   "execution_count": 4,
   "metadata": {},
   "outputs": [
    {
     "name": "stdout",
     "output_type": "stream",
     "text": [
      "Loading data...\n",
      "    DATABASE: DisasterResponse.db\n",
      "Building model...\n",
      "Training model...\n",
      "Evaluating model...\n",
      "/Users/xuhao3/opt/anaconda3/lib/python3.7/site-packages/sklearn/metrics/_classification.py:1272: UndefinedMetricWarning: Precision and F-score are ill-defined and being set to 0.0 in labels with no predicted samples. Use `zero_division` parameter to control this behavior.\n",
      "  _warn_prf(average, modifier, msg_start, len(result))\n",
      "    precision    recall  f1_score               indicator\n",
      "0    0.718941  0.286526  0.409750                 related\n",
      "1    0.903472  0.980699  0.940502                 request\n",
      "2    0.995423  1.000000  0.997706                   offer\n",
      "3    0.784237  0.850227  0.815900             aid_related\n",
      "4    0.929373  0.995028  0.961081            medical_help\n",
      "5    0.956890  0.998594  0.977297        medical_products\n",
      "6    0.974506  0.998037  0.986131       search_and_rescue\n",
      "7    0.981298  0.999417  0.990274                security\n",
      "8    0.972616  0.999213  0.985735                military\n",
      "9    1.000000  1.000000  1.000000             child_alone\n",
      "10   0.959103  0.996934  0.977653                   water\n",
      "11   0.959992  0.981908  0.970826                    food\n",
      "12   0.949529  0.991634  0.970125                 shelter\n",
      "13   0.986417  0.999225  0.992779                clothing\n",
      "14   0.978626  1.000000  0.989198                   money\n",
      "15   0.990084  1.000000  0.995017          missing_people\n",
      "16   0.972430  0.998624  0.985353                refugees\n",
      "17   0.969979  0.995824  0.982732                   death\n",
      "18   0.874713  0.998251  0.932408               other_aid\n",
      "19   0.933435  0.999796  0.965476  infrastructure_related\n",
      "20   0.961014  0.999401  0.979832               transport\n",
      "21   0.954160  0.996981  0.975101               buildings\n",
      "22   0.978431  1.000000  0.989098             electricity\n",
      "23   0.992372  1.000000  0.996172                   tools\n",
      "24   0.988940  1.000000  0.994439               hospitals\n",
      "25   0.994088  1.000000  0.997035                   shops\n",
      "26   0.985698  1.000000  0.992797             aid_centers\n",
      "27   0.957276  0.999801  0.978077    other_infrastructure\n",
      "28   0.900577  0.950450  0.924842         weather_related\n",
      "29   0.957882  0.995622  0.976388                  floods\n",
      "30   0.961610  0.981049  0.971232                   storm\n",
      "31   0.989508  1.000000  0.994726                    fire\n",
      "32   0.980869  0.990550  0.985686              earthquake\n",
      "33   0.983519  0.998638  0.991021                    cold\n",
      "34   0.951597  0.998795  0.974625           other_weather\n",
      "35   0.872712  0.979457  0.923008           direct_report\n",
      "The average precision, recall and f1_score are 0.95003660154207,0.9711300242218263,0.9575006509041314\n",
      "Saving model...\n",
      "    MODEL: model_randomforest.pkl\n",
      "Trained model saved!\n"
     ]
    }
   ],
   "source": [
    "!python train_classifier.py DisasterResponse.db model_randomforest.pkl"
   ]
  }
 ],
 "metadata": {
  "kernelspec": {
   "display_name": "Python 3",
   "language": "python",
   "name": "python3"
  },
  "language_info": {
   "codemirror_mode": {
    "name": "ipython",
    "version": 3
   },
   "file_extension": ".py",
   "mimetype": "text/x-python",
   "name": "python",
   "nbconvert_exporter": "python",
   "pygments_lexer": "ipython3",
   "version": "3.7.6"
  }
 },
 "nbformat": 4,
 "nbformat_minor": 2
}
